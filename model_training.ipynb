{
 "cells": [
  {
   "cell_type": "markdown",
   "metadata": {},
   "source": [
    "# Model training"
   ]
  },
  {
   "cell_type": "code",
   "execution_count": 1,
   "metadata": {},
   "outputs": [],
   "source": [
    "%pip install -r requirements.txt -q"
   ]
  },
  {
   "cell_type": "markdown",
   "metadata": {},
   "source": [
    "## Prepare data"
   ]
  },
  {
   "cell_type": "code",
   "execution_count": null,
   "metadata": {},
   "outputs": [],
   "source": [
    "import warnings\n",
    "warnings.filterwarnings('ignore')\n",
    "import numpy as np\n",
    "import pandas as pd\n",
    "from utils.model_training import prepare_data_for_training\n"
   ]
  },
  {
   "cell_type": "code",
   "execution_count": 3,
   "metadata": {},
   "outputs": [
    {
     "name": "stdout",
     "output_type": "stream",
     "text": [
      "Index(['id', 'patron_id', 'library_id', 'date_checkout', 'date_returned',\n",
      "       'days_borrowed', 'late_return', 'checkout_month', 'checkout_dayofweek',\n",
      "       'return_due_date', 'return_due_date_dayofweek', 'is_holiday_checkout',\n",
      "       'is_holiday_for_return', 'customer_id', 'customer_name',\n",
      "       'customer_street_address', 'customer_city', 'customer_state',\n",
      "       'customer_zipcode', 'customer_birth_date', 'customer_gender',\n",
      "       'customer_education', 'customer_occupation', 'customer_age',\n",
      "       'customer_age_group', 'book_id', 'book_title', 'book_authors',\n",
      "       'book_publisher', 'book_publishedDate', 'book_categories', 'book_price',\n",
      "       'book_pages', 'book_age', 'book_expensive', 'library_name',\n",
      "       'library_street_address', 'library_city', 'library_region',\n",
      "       'library_postal_code', 'same_city'],\n",
      "      dtype='object')\n"
     ]
    }
   ],
   "source": [
    "# import preprocessed data or run the preprocessing\n",
    "\n",
    "path_to_merged_clean_data = \"data/clean_merged_data.csv\"\n",
    "path_to_books = \"data/books.csv\"\n",
    "path_to_customers = \"data/customers.csv\"\n",
    "path_to_libraries = \"data/libraries.csv\"\n",
    "path_to_checkouts = \"data/checkouts.csv\"\n",
    "\n",
    "try:\n",
    "    data = pd.read_csv(path_to_merged_clean_data)\n",
    "except:\n",
    "    from utils.preprocess import (preprocess_checkouts_df, preprocess_books_df, preprocess_customers_df, \n",
    "                                  preprocess_libraries_df, merge_data)\n",
    "    books_df = preprocess_books_df(pd.read_csv(path_to_books))\n",
    "    customers_df = preprocess_customers_df(pd.read_csv(path_to_customers))\n",
    "    libraries_df = preprocess_libraries_df(pd.read_csv(path_to_libraries))\n",
    "    checkouts_df = preprocess_checkouts_df(pd.read_csv(path_to_checkouts))\n",
    "    data = merge_data(checkouts_df=checkouts_df, \n",
    "                  customers_df=customers_df, \n",
    "                  books_df=books_df,\n",
    "                  libraries_df=libraries_df)\n",
    "\n",
    "print(data.columns)"
   ]
  },
  {
   "cell_type": "code",
   "execution_count": 4,
   "metadata": {},
   "outputs": [
    {
     "name": "stdout",
     "output_type": "stream",
     "text": [
      "len(data[data.late_return==1])=117,  len(data[data.late_return==0])=1098\n"
     ]
    }
   ],
   "source": [
    "print(f\"{len(data[data.late_return==1])=}, { len(data[data.late_return==0])=}\")"
   ]
  },
  {
   "cell_type": "code",
   "execution_count": 5,
   "metadata": {},
   "outputs": [],
   "source": [
    "categorical_cols = [\"customer_gender\", \"customer_education\", \"customer_occupation\", \"book_categories\", \"customer_zipcode\", \n",
    "                    \"book_authors\", \"book_publisher\", \"library_id\",\"library_city\", \"checkout_dayofweek\", \"checkout_month\",\n",
    "                    \"is_holiday_for_return\"]\n",
    "numerical_cols = [\"customer_age\", \"book_price\", \"book_pages\", \"book_age\"]\n",
    "\n",
    "\n",
    "# the best results\n",
    "categorical_cols = [\"customer_zipcode\", \"library_city\", \"is_holiday_for_return\", \"checkout_dayofweek\",]\n",
    "numerical_cols = [\"book_pages\", \"book_age\", \"customer_age\"]\n",
    "\n",
    "X_train, X_test, y_train, y_test, preprocessor = prepare_data_for_training(data, categorical_cols, numerical_cols)"
   ]
  },
  {
   "cell_type": "markdown",
   "metadata": {},
   "source": [
    "## Random forest"
   ]
  },
  {
   "cell_type": "code",
   "execution_count": 6,
   "metadata": {},
   "outputs": [],
   "source": [
    "from utils.model_training import train_random_forest"
   ]
  },
  {
   "cell_type": "code",
   "execution_count": 7,
   "metadata": {},
   "outputs": [
    {
     "name": "stdout",
     "output_type": "stream",
     "text": [
      "Accuracy: 0.72\n",
      "Classification Report:\n",
      "               precision    recall  f1-score   support\n",
      "\n",
      "           0       0.99      0.71      0.83       223\n",
      "           1       0.22      0.90      0.35        20\n",
      "\n",
      "    accuracy                           0.72       243\n",
      "   macro avg       0.60      0.80      0.59       243\n",
      "weighted avg       0.92      0.72      0.79       243\n",
      "\n",
      "Confusion Matrix:\n",
      " [[158  65]\n",
      " [  2  18]]\n"
     ]
    }
   ],
   "source": [
    "random_forest_model = train_random_forest(X_train, X_test, y_train, y_test, threshold=0.1)"
   ]
  },
  {
   "cell_type": "markdown",
   "metadata": {},
   "source": [
    "## XGBoost"
   ]
  },
  {
   "cell_type": "code",
   "execution_count": 8,
   "metadata": {},
   "outputs": [
    {
     "name": "stdout",
     "output_type": "stream",
     "text": [
      "Accuracy: 0.78\n",
      "Classification Report:\n",
      "               precision    recall  f1-score   support\n",
      "\n",
      "           0       0.97      0.78      0.87       223\n",
      "           1       0.23      0.75      0.36        20\n",
      "\n",
      "    accuracy                           0.78       243\n",
      "   macro avg       0.60      0.77      0.61       243\n",
      "weighted avg       0.91      0.78      0.82       243\n",
      "\n",
      "Confusion Matrix:\n",
      " [[174  49]\n",
      " [  5  15]]\n"
     ]
    }
   ],
   "source": [
    "from utils.model_training import train_xgboost\n",
    "xgboost_model = train_xgboost(X_train, X_test, y_train, y_test, threshold=0.1)"
   ]
  },
  {
   "cell_type": "markdown",
   "metadata": {},
   "source": [
    "## Gradient boosting"
   ]
  },
  {
   "cell_type": "code",
   "execution_count": 9,
   "metadata": {},
   "outputs": [],
   "source": [
    "from utils.model_training import train_gradient_boosting"
   ]
  },
  {
   "cell_type": "code",
   "execution_count": 10,
   "metadata": {},
   "outputs": [
    {
     "name": "stdout",
     "output_type": "stream",
     "text": [
      "Accuracy: 0.69\n",
      "Classification Report:\n",
      "               precision    recall  f1-score   support\n",
      "\n",
      "           0       0.97      0.68      0.80       223\n",
      "           1       0.18      0.80      0.30        20\n",
      "\n",
      "    accuracy                           0.69       243\n",
      "   macro avg       0.58      0.74      0.55       243\n",
      "weighted avg       0.91      0.69      0.76       243\n",
      "\n",
      "Confusion Matrix:\n",
      " [[151  72]\n",
      " [  4  16]]\n"
     ]
    }
   ],
   "source": [
    "gradient_boost_model = train_gradient_boosting(X_train, X_test, y_train, y_test, threshold=0.1)"
   ]
  },
  {
   "cell_type": "markdown",
   "metadata": {},
   "source": [
    "## Logistic regression"
   ]
  },
  {
   "cell_type": "code",
   "execution_count": 11,
   "metadata": {},
   "outputs": [],
   "source": [
    "from utils.model_training import train_logistic_regression"
   ]
  },
  {
   "cell_type": "code",
   "execution_count": 12,
   "metadata": {},
   "outputs": [
    {
     "name": "stdout",
     "output_type": "stream",
     "text": [
      "Accuracy: 0.81\n",
      "Classification Report:\n",
      "               precision    recall  f1-score   support\n",
      "\n",
      "           0       0.98      0.81      0.88       223\n",
      "           1       0.27      0.80      0.41        20\n",
      "\n",
      "    accuracy                           0.81       243\n",
      "   macro avg       0.62      0.80      0.64       243\n",
      "weighted avg       0.92      0.81      0.85       243\n",
      "\n",
      "Confusion Matrix:\n",
      " [[180  43]\n",
      " [  4  16]]\n"
     ]
    }
   ],
   "source": [
    "logistic_regression_model = train_logistic_regression(X_train, X_test, y_train, y_test)"
   ]
  },
  {
   "cell_type": "markdown",
   "metadata": {},
   "source": [
    "## KNN"
   ]
  },
  {
   "cell_type": "code",
   "execution_count": 13,
   "metadata": {},
   "outputs": [],
   "source": [
    "from utils.model_training import train_knn"
   ]
  },
  {
   "cell_type": "code",
   "execution_count": 14,
   "metadata": {},
   "outputs": [
    {
     "name": "stdout",
     "output_type": "stream",
     "text": [
      "Accuracy: 0.66\n",
      "Classification Report:\n",
      "               precision    recall  f1-score   support\n",
      "\n",
      "           0       0.94      0.67      0.78       223\n",
      "           1       0.13      0.55      0.21        20\n",
      "\n",
      "    accuracy                           0.66       243\n",
      "   macro avg       0.54      0.61      0.50       243\n",
      "weighted avg       0.88      0.66      0.74       243\n",
      "\n",
      "Confusion Matrix:\n",
      " [[149  74]\n",
      " [  9  11]]\n"
     ]
    }
   ],
   "source": [
    "X_train_knn, X_test_knn, y_train_knn, y_test_knn, preprocessor = prepare_data_for_training(data, categorical_cols, numerical_cols, balancing=\"hybrid\")\n",
    "knn_model = train_knn(X_train_knn, X_test_knn, y_train_knn, y_test_knn, n_neighbors=1)"
   ]
  },
  {
   "cell_type": "markdown",
   "metadata": {},
   "source": [
    "## Neural network"
   ]
  },
  {
   "cell_type": "code",
   "execution_count": 15,
   "metadata": {},
   "outputs": [],
   "source": [
    "from utils.model_training import train_neural_network_imbalanced"
   ]
  },
  {
   "cell_type": "code",
   "execution_count": 16,
   "metadata": {},
   "outputs": [
    {
     "name": "stderr",
     "output_type": "stream",
     "text": [
      "2025-02-10 01:59:01.260449: E external/local_xla/xla/stream_executor/cuda/cuda_driver.cc:152] failed call to cuInit: INTERNAL: CUDA error: Failed call to cuInit: UNKNOWN ERROR (303)\n"
     ]
    },
    {
     "name": "stdout",
     "output_type": "stream",
     "text": [
      "\u001b[1m8/8\u001b[0m \u001b[32m━━━━━━━━━━━━━━━━━━━━\u001b[0m\u001b[37m\u001b[0m \u001b[1m0s\u001b[0m 7ms/step \n",
      "Accuracy: 0.72\n",
      "Classification Report:\n",
      "               precision    recall  f1-score   support\n",
      "\n",
      "           0       0.98      0.71      0.82       223\n",
      "           1       0.20      0.80      0.32        20\n",
      "\n",
      "    accuracy                           0.72       243\n",
      "   macro avg       0.59      0.75      0.57       243\n",
      "weighted avg       0.91      0.72      0.78       243\n",
      "\n",
      "Confusion Matrix:\n",
      " [[158  65]\n",
      " [  4  16]]\n"
     ]
    }
   ],
   "source": [
    "nn_model = train_neural_network_imbalanced(X_train, X_test, y_train, y_test, threshold=0.1)"
   ]
  }
 ],
 "metadata": {
  "kernelspec": {
   "display_name": ".venv",
   "language": "python",
   "name": "python3"
  },
  "language_info": {
   "codemirror_mode": {
    "name": "ipython",
    "version": 3
   },
   "file_extension": ".py",
   "mimetype": "text/x-python",
   "name": "python",
   "nbconvert_exporter": "python",
   "pygments_lexer": "ipython3",
   "version": "3.10.13"
  }
 },
 "nbformat": 4,
 "nbformat_minor": 2
}
